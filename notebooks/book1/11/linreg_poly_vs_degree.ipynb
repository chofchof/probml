{
 "cells": [
  {
   "cell_type": "markdown",
   "id": "77200122",
   "metadata": {},
   "source": [
    "Source of this notebook is here:  https://colab.research.google.com/github/probml/pyprobml/blob/master/notebooks/book1/01/linreg_poly_vs_degree.ipynb"
   ]
  }
 ],
 "metadata": {},
 "nbformat": 4,
 "nbformat_minor": 5
}
